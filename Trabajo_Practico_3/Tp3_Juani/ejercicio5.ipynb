{
 "cells": [
  {
   "attachments": {},
   "cell_type": "markdown",
   "metadata": {},
   "source": [
    "## Ejercicio 5"
   ]
  },
  {
   "attachments": {},
   "cell_type": "markdown",
   "metadata": {},
   "source": [
    "Modificar el programa para que funcione para resolver problemas de regresión \n",
    "1. Debe modificarse la función de pérdida y sus derivadas, utilizando por ejemplo MSE\n",
    "2. Debe crearse un generador de datos nuevo para que genere datos continuos (pueden mantenerse igualmente 2 entradas; en caso de usar más entradas puede requerirse más capas en la red neuronal)\n"
   ]
  },
  {
   "cell_type": "code",
   "execution_count": 138,
   "metadata": {},
   "outputs": [],
   "source": [
    "#Importacion de librerias\n",
    "import numpy as np\n",
    "import matplotlib.pyplot as plt"
   ]
  },
  {
   "attachments": {},
   "cell_type": "markdown",
   "metadata": {},
   "source": [
    "Ahora ya no se generan datos aleatorios que deberemos clasificar por su clase, ya que no utilizaremos la red neuronal para clasificar. Lo que haremos ahora es generar puntos aleatorios mediante una distribucion uniforme, los cuales son las variables independientes de una funcion tridimensional que nosotros definiremos. Luego, la red neuronal debera aprender a predecir el valor de la funcion en cada punto, es decir, la variable dependiente."
   ]
  },
  {
   "cell_type": "code",
   "execution_count": 139,
   "metadata": {},
   "outputs": [],
   "source": [
    "def generaradorContinuo(cantidad_ejemplos):\n",
    "    # Genero los valores de x1 y x2, las cuales son las variables independientes de la funcion que queremos aproximar\n",
    "    x1 = np.random.uniform(0, 10, cantidad_ejemplos)\n",
    "    x2 = np.random.uniform(0, 10, cantidad_ejemplos)\n",
    "    x = np.c_[x1, x2]\n",
    "    \n",
    "    # Genero los valores de t, la cual es la variable dependiente de la funcion que queremos aproximar\n",
    "    # En este caso vamos a usar una funcion de un paraboloide hiperbolico\n",
    "    t = 2 * x1**2 - 3 * x2**2 + 1\n",
    "\n",
    "\n",
    "    #return x, t"
   ]
  },
  {
   "attachments": {},
   "cell_type": "markdown",
   "metadata": {},
   "source": [
    "### Codigo base con ciertas modificaciones"
   ]
  },
  {
   "cell_type": "code",
   "execution_count": 140,
   "metadata": {},
   "outputs": [],
   "source": [
    "\n",
    "\n",
    "# Generador basado en ejemplo del curso CS231 de Stanford: \n",
    "# CS231n Convolutional Neural Networks for Visual Recognition\n",
    "# (https://cs231n.github.io/neural-networks-case-study/)\n",
    "def generar_datos_clasificacion(cantidad_ejemplos, cantidad_clases):\n",
    "    FACTOR_ANGULO = 0.79\n",
    "    AMPLITUD_ALEATORIEDAD = 0.1\n",
    "\n",
    "    # Calculamos la cantidad de puntos por cada clase, asumiendo la misma cantidad para cada \n",
    "    # una (clases balanceadas)\n",
    "    n = int(cantidad_ejemplos / cantidad_clases)\n",
    "\n",
    "    # Entradas: 2 columnas (x1 y x2)\n",
    "    x = np.zeros((cantidad_ejemplos, 2))\n",
    "    \n",
    "    # Salida deseada (\"target\"): 1 columna que contendra la clase correspondiente (codificada como un entero)\n",
    "    t = np.zeros(cantidad_ejemplos, dtype=\"uint8\")  # 1 columna: la clase correspondiente (t -> \"target\")\n",
    "    \n",
    "    randomgen = np.random.default_rng()\n",
    "\n",
    "    # Por cada clase (que va de 0 a cantidad_clases)...\n",
    "    for clase in range(cantidad_clases):\n",
    "        # Tomando la ecuacion parametrica del circulo (x = r * cos(t), y = r * sin(t)), generamos \n",
    "        # radios distribuidos uniformemente entre 0 y 1 para la clase actual, y agregamos un poco de\n",
    "        # aleatoriedad\n",
    "        radios = np.linspace(0, 1, n) + AMPLITUD_ALEATORIEDAD * randomgen.standard_normal(size=n)\n",
    "\n",
    "        # ... y angulos distribuidos tambien uniformemente, con un desfasaje por cada clase\n",
    "        angulos = np.linspace(clase * np.pi * FACTOR_ANGULO, (clase + 1) * np.pi * FACTOR_ANGULO, n)\n",
    "\n",
    "        # Generamos un rango con los subindices de cada punto de esta clase. Este rango se va\n",
    "        # desplazando para cada clase: para la primera clase los indices estan en [0, n-1], para\n",
    "        # la segunda clase estan en [n, (2 * n) - 1], etc.\n",
    "        indices = range(clase * n, (clase + 1) * n)\n",
    "\n",
    "        # Generamos las \"entradas\", los valores de las variables independientes. Las variables:\n",
    "        # radios, angulos e indices tienen n elementos cada una, por lo que le estamos agregando\n",
    "        # tambien n elementos a la variable x (que incorpora ambas entradas, x1 y x2)\n",
    "        x1 = radios * np.sin(angulos)\n",
    "        x2 = radios * np.cos(angulos)\n",
    "        x[indices] = np.c_[x1, x2] #Esta función une al vector x1 y a x2. Es como que genera una matriz.\n",
    "\n",
    "        # Guardamos el valor de la clase que le vamos a asociar a las entradas x1 y x2 que acabamos\n",
    "        # de generar\n",
    "        t[indices] = clase\n",
    "\n",
    "    return x, t\n",
    "\n",
    "\n",
    "def inicializar_pesos(n_entrada, n_capa_2, n_capa_3):\n",
    "    randomgen = np.random.default_rng()\n",
    "\n",
    "    #w son los pesos, b son los sesgos. En este caso tenemos 2 capas luego de la capa de entrada\n",
    "    \n",
    "    #Se inicializan con un valor bajo. Por eso se multiplilcan por 0.1\n",
    "    w1 = 0.1 * randomgen.standard_normal((n_entrada, n_capa_2))\n",
    "    b1 = 0.1 * randomgen.standard_normal((1, n_capa_2))\n",
    "\n",
    "    w2 = 0.1 * randomgen.standard_normal((n_capa_2, n_capa_3))\n",
    "    b2 = 0.1 * randomgen.standard_normal((1,n_capa_3))\n",
    "\n",
    "    return {\"w1\": w1, \"b1\": b1, \"w2\": w2, \"b2\": b2}\n",
    "\n",
    "\n",
    "def ejecutar_adelante(x, pesos):\n",
    "    # Funcion de entrada (a.k.a. \"regla de propagacion\") para la primera capa oculta\n",
    "    z = x.dot(pesos[\"w1\"]) + pesos[\"b1\"]\n",
    "    #Por más que b1 sea un vector y la multiplicación de x*w sea una matriz, como tienen la misma cantidad de columnas, se puede hacer la suma porque numpy intuye que queremos sumar a cada fila de la matriz el mismo vector b.\n",
    "\n",
    "    # Funcion de activacion ReLU para la capa oculta (h -> \"hidden\")\n",
    "    h = np.maximum(0, z)\n",
    "    #Esta función de activación convierte a 0 los valores negativos, y deja como está a los valores positivos.\n",
    "\n",
    "    # Salida de la red (funcion de activacion lineal). Esto incluye la salida de todas\n",
    "    # las neuronas y para todos los ejemplos proporcionados\n",
    "    y = h.dot(pesos[\"w2\"]) + pesos[\"b2\"]\n",
    "\n",
    "    return {\"z\": z, \"h\": h, \"y\": y}\n",
    "\n",
    "#Esto se usaría una vez que la red neuronal ya está entrenada\n",
    "def clasificar(x, pesos):\n",
    "    # Corremos la red \"hacia adelante\"\n",
    "    resultados_feed_forward = ejecutar_adelante(x, pesos)\n",
    "    \n",
    "    # Buscamos la(s) clase(s) con scores mas altos (en caso de que haya mas de una con \n",
    "    # el mismo score estas podrian ser varias). Dado que se puede ejecutar en batch (x \n",
    "    # podria contener varios ejemplos), buscamos los maximos a lo largo del axis=1 \n",
    "    # (es decir, por filas)\n",
    "    max_scores = np.argmax(resultados_feed_forward[\"y\"], axis=1)\n",
    "\n",
    "    # Tomamos el primero de los maximos (podria usarse otro criterio, como ser eleccion aleatoria)\n",
    "    # Nuevamente, dado que max_scores puede contener varios renglones (uno por cada ejemplo),\n",
    "    # retornamos la primera columna\n",
    "    return max_scores#[:, 0]\n",
    "\n",
    "\n",
    "\n",
    "\n"
   ]
  },
  {
   "cell_type": "markdown",
   "metadata": {},
   "source": [
    "### Creación de función para medir la precisión"
   ]
  },
  {
   "cell_type": "markdown",
   "metadata": {},
   "source": [
    "Vamos a codear una funcion que tome como parametros un conjunto de distintos ejemplos, con sus respectivos target y los pesos y bias de la red, y nos devuelva la precision de clasificacion de la red."
   ]
  },
  {
   "cell_type": "code",
   "execution_count": 141,
   "metadata": {},
   "outputs": [],
   "source": [
    "def calculaPrecision(conjuntoEjemplos,target,pesos):\n",
    "\n",
    "    #Ejecutamos la funcion clasificar para obtener la claficacion que la red hace de los ejemplos que le pasamos\n",
    "    resultadosClasificacion = clasificar(conjuntoEjemplos,pesos)\n",
    "    #La funcion clasificar nos entrega un vector donde cada elemento es el indice de la neurona que la red considera que es correcta (mayor valor)\n",
    "    #Dado que son 3 salidas, una para cada clase, debemos contrastar el valor entregado con el target, el cual indica la clase correcta\n",
    "\n",
    "    #Utilizamos funcion equal de numpy, la cual nos entrega un vector con valores booleanos al comparar 2 vectores que le pasemos como parametro, elemento a elemento\n",
    "    #En este caso, comparamos el vector de resultados de clasificacion con el vector de target\n",
    "    resultadosCorrectos = np.equal(resultadosClasificacion,target)\n",
    "\n",
    "    #Calculamos precision\n",
    "    precision=(len(resultadosCorrectos[resultadosCorrectos==True])/len(resultadosCorrectos))*100\n",
    "    return precision\n",
    "     "
   ]
  },
  {
   "cell_type": "markdown",
   "metadata": {},
   "source": [
    "### Creacion de funcion de Early Stop o Parada Temprana"
   ]
  },
  {
   "cell_type": "code",
   "execution_count": 142,
   "metadata": {},
   "outputs": [],
   "source": [
    "def earlyStop (xValidacion, tValidacion, pesos, vectorPrecision, ultimoEpoch):\n",
    "\n",
    "    #Llamamos a la funcion para evaluar la precision con el conjunto de validacion y metemos esta precision al vector de precisiones\n",
    "    precision = calculaPrecision(xValidacion,tValidacion,pesos)\n",
    "    vectorPrecision.append(precision)\n",
    "\n",
    "    #Evaluamos este ultimo valor de precision con el anterior, si es menor, retornamos True, si no, retornamos False\n",
    "    #Establecemos un valor de tolerancia para que no se detenga el entrenamiento por una diferencia minima (oscilaciones)\n",
    "    TOLERANCIA = 20 #Esto quiere decir que tienen que haber pasado 20*N epochs para que se detenga el entrenamiento\n",
    "    if len(vectorPrecision)>TOLERANCIA:\n",
    "        if vectorPrecision[-1]<vectorPrecision[-2]:\n",
    "            print(\"Se detuvo el entrenamiento en el epoch: \",ultimoEpoch)\n",
    "            return True\n",
    "        else:\n",
    "            return False"
   ]
  },
  {
   "attachments": {},
   "cell_type": "markdown",
   "metadata": {},
   "source": [
    "### Funcion de train"
   ]
  },
  {
   "attachments": {},
   "cell_type": "markdown",
   "metadata": {},
   "source": [
    "Separamos la funcion de train del resto del codigo base para poder declarar la funcion de earlyStop antes"
   ]
  },
  {
   "cell_type": "code",
   "execution_count": 143,
   "metadata": {},
   "outputs": [],
   "source": [
    "# x: n entradas para cada uno de los m ejemplos(nxm)\n",
    "# t: salida correcta (target) para cada uno de los m ejemplos (m x 1)\n",
    "# pesos: pesos (W y b)\n",
    "def train(x, t, pesos, learning_rate, epochs, xValidacion, tValidacion, validationEpoch):\n",
    "    # Cantidad de filas (i.e. cantidad de ejemplos)\n",
    "    m = np.size(x, 0)\n",
    "\n",
    "    #Definimos el vector de precision\n",
    "    vectorPrecision=[] \n",
    "    \n",
    "    for i in range(epochs):\n",
    "        # Ejecucion de la red hacia adelante\n",
    "        resultados_feed_forward = ejecutar_adelante(x, pesos)\n",
    "        y = resultados_feed_forward[\"y\"]\n",
    "        h = resultados_feed_forward[\"h\"]\n",
    "        z = resultados_feed_forward[\"z\"]\n",
    "\n",
    "        # LOSS\n",
    "        # a. Exponencial de todos los scores\n",
    "        exp_scores = np.exp(y)\n",
    "\n",
    "        # b. Suma de todos los exponenciales de los scores, fila por fila (ejemplo por ejemplo).\n",
    "        #    Mantenemos las dimensiones (indicamos a NumPy que mantenga la segunda dimension del\n",
    "        #    arreglo, aunque sea una sola columna, para permitir el broadcast correcto en operaciones\n",
    "        #    subsiguientes)\n",
    "        sum_exp_scores = np.sum(exp_scores, axis=1, keepdims=True)\n",
    "\n",
    "        # c. \"Probabilidades\": normalizacion de las exponenciales del score de cada clase (dividiendo por \n",
    "        #    la suma de exponenciales de todos los scores), fila por fila\n",
    "        p = exp_scores / sum_exp_scores\n",
    "\n",
    "        # d. Calculo de la funcion de perdida global. Solo se usa la probabilidad de la clase correcta, \n",
    "        #    que tomamos del array t (\"target\")\n",
    "        loss = (1 / m) * np.sum( -np.log( p[range(m), t] ))\n",
    "\n",
    "        # Mostramos solo cada 1000 epochs\n",
    "        if i %1000 == 0:\n",
    "            print(\"Loss epoch\", i, \":\", loss)\n",
    "\n",
    "\n",
    "        # Extraemos los pesos a variables locales\n",
    "        w1 = pesos[\"w1\"]\n",
    "        b1 = pesos[\"b1\"]\n",
    "        w2 = pesos[\"w2\"]\n",
    "        b2 = pesos[\"b2\"]\n",
    "\n",
    "        # Ajustamos los pesos: Backpropagation\n",
    "        dL_dy = p                # Para todas las salidas, L' = p (la probabilidad)...\n",
    "        dL_dy[range(m), t] -= 1  # ... excepto para la clase correcta\n",
    "        dL_dy /= m\n",
    "\n",
    "        dL_dw2 = h.T.dot(dL_dy)                         # Ajuste para w2\n",
    "        dL_db2 = np.sum(dL_dy, axis=0, keepdims=True)   # Ajuste para b2\n",
    "\n",
    "        dL_dh = dL_dy.dot(w2.T)\n",
    "        \n",
    "        dL_dz = dL_dh       # El calculo dL/dz = dL/dh * dh/dz. La funcion \"h\" es la funcion de activacion de la capa oculta,\n",
    "        dL_dz[z <= 0] = 0   # para la que usamos ReLU. La derivada de la funcion ReLU: 1(z > 0) (0 en otro caso)\n",
    "\n",
    "        dL_dw1 = x.T.dot(dL_dz)                         # Ajuste para w1\n",
    "        dL_db1 = np.sum(dL_dz, axis=0, keepdims=True)   # Ajuste para b1\n",
    "\n",
    "        # Aplicamos el ajuste a los pesos\n",
    "        w1 += -learning_rate * dL_dw1\n",
    "        b1 += -learning_rate * dL_db1\n",
    "        w2 += -learning_rate * dL_dw2\n",
    "        b2 += -learning_rate * dL_db2\n",
    "\n",
    "        # Actualizamos la estructura de pesos\n",
    "        # Extraemos los pesos a variables locales\n",
    "        pesos[\"w1\"] = w1\n",
    "        pesos[\"b1\"] = b1\n",
    "        pesos[\"w2\"] = w2\n",
    "        pesos[\"b2\"] = b2\n",
    "\n",
    "        #Evaluamos si nos encontramos en el epoch de validacion\n",
    "        if i % validationEpoch == 0:\n",
    "            #Llamamos a la funcion de parada temprana, la cual nos entrega un booleano\n",
    "            #Le pasamos el conjunto de validacion, target de validacion, pesos, vector de prescion y numero actual de epoch (i)\n",
    "            flagEarlyStop = earlyStop(xValidacion, tValidacion, pesos, vectorPrecision,i)\n",
    "        \n",
    "        #Si el flag de parada temprana es True, paramos el entrenamiento, si no seguimos con el bucle for normalmente\n",
    "        if flagEarlyStop:\n",
    "            break\n",
    "    \n",
    "    #Entregamos los nuevos pesos\n",
    "    nuevosPesos = pesos\n",
    "    return nuevosPesos"
   ]
  },
  {
   "attachments": {},
   "cell_type": "markdown",
   "metadata": {},
   "source": [
    "### Funcion Iniciar"
   ]
  },
  {
   "attachments": {},
   "cell_type": "markdown",
   "metadata": {},
   "source": [
    "Movemos la funcion iniciar aqui, de esta manera podemos ejecutar la funcion que acabamos de crear sin problema"
   ]
  },
  {
   "cell_type": "code",
   "execution_count": 144,
   "metadata": {},
   "outputs": [],
   "source": [
    "def iniciar(numero_ejemplos, graficar_datos):\n",
    "    \n",
    "    # Generamos datos del conjunto train\n",
    "    x, t = generaradorContinuo(numero_ejemplos)\n",
    "\n",
    "    #Generamos datos del conjunto test con el mismo numero de ejemplos y clases\n",
    "    xTest,tTest = generaradorContinuo(numero_ejemplos)\n",
    "\n",
    "    #Generamos datos del conjunto de validacion con el mismo numero de eje,plos y clases\n",
    "\n",
    "    xValidacion,tValidacion = generaradorContinuo(numero_ejemplos)\n",
    "\n",
    "    # Graficamos los datos si es necesario\n",
    "    if graficar_datos:\n",
    "        # Parametro: \"c\": color (un color distinto para cada clase en t)\n",
    "        fig = plt.figure()\n",
    "        ax = fig.add_subplot(111, projection='3d')\n",
    "        ax.scatter(x[:, 0], x[:, 1], t, c=t, cmap='seismic', linewidth=0.5)\n",
    "        ax.set_xlabel('x1')\n",
    "        ax.set_ylabel('x2')\n",
    "        ax.set_zlabel('t')\n",
    "        ax.set_title('Datos de entrenamiento')\n",
    "        plt.show()\n",
    "\n",
    "    # Inicializa pesos de la red\n",
    "    NEURONAS_CAPA_OCULTA = 100\n",
    "    NEURONAS_ENTRADA = 2 #Son 2 porque tenemos una por cada coordenada\n",
    "    NEURONAS_SALIDA = 1 #Es 1 porque tenemos solo el valor de t=f(x1,x2)\n",
    "    pesos = inicializar_pesos(n_entrada=NEURONAS_ENTRADA, n_capa_2=NEURONAS_CAPA_OCULTA, n_capa_3=NEURONAS_SALIDA)\n",
    "\n",
    "    # Entrenamos a la red. Le pasamos los conjuntos de train y validacion (para parada temprana)\n",
    "    LEARNING_RATE=1 \n",
    "    EPOCHS=10000\n",
    "    VALIDATION_EPOCH=100 #Cada cuantas epochs hacemos el cross validation con el conjunto de validacion para la early stop\n",
    "    nuevosPesos=train(x, t, pesos, LEARNING_RATE, EPOCHS, xValidacion, tValidacion, VALIDATION_EPOCH)\n",
    "\n",
    "    #Calculamos precision de la red para el conjunto train y para el conjunto test\n",
    "    precisionTrain=calculaPrecision(x, t, nuevosPesos)\n",
    "    print(\"Precision en conjunto de Train: \"+str(precisionTrain)+\"%\")\n",
    "    precisionTest=calculaPrecision(xTest, tTest, nuevosPesos)\n",
    "    print(\"Precision en conjunto de Test: \"+str(precisionTest)+\"%\")"
   ]
  },
  {
   "attachments": {},
   "cell_type": "markdown",
   "metadata": {},
   "source": [
    "### Experimentacion con cambios de parametros en Generador por default"
   ]
  },
  {
   "cell_type": "code",
   "execution_count": 145,
   "metadata": {},
   "outputs": [
    {
     "data": {
      "image/png": "[encoded data removed]",
      "text/plain": [
       "<Figure size 640x480 with 1 Axes>"
      ]
     },
     "metadata": {},
     "output_type": "display_data"
    },
    {
     "name": "stdout",
     "output_type": "stream",
     "text": [
      "Loss epoch 0 : 1.081102158768232\n",
      "Loss epoch 1000 : 0.15817291174882542\n",
      "Loss epoch 2000 : 0.1458492951017738\n",
      "Loss epoch 3000 : 0.1383986130172474\n",
      "Loss epoch 4000 : 0.13003904094188554\n",
      "Loss epoch 5000 : 0.12254877282100882\n",
      "Se detuvo el entrenamiento en el epoch:  5300\n",
      "Precision en conjunto de Train: 96.0%\n",
      "Precision en conjunto de Test: 96.33333333333334%\n"
     ]
    }
   ],
   "source": [
    "iniciar(2000,True)"
   ]
  }
 ],
 "metadata": {
  "kernelspec": {
   "display_name": "Python 3",
   "language": "python",
   "name": "python3"
  },
  "language_info": {
   "codemirror_mode": {
    "name": "ipython",
    "version": 3
   },
   "file_extension": ".py",
   "mimetype": "text/x-python",
   "name": "python",
   "nbconvert_exporter": "python",
   "pygments_lexer": "ipython3",
   "version": "3.10.6"
  },
  "orig_nbformat": 4
 },
 "nbformat": 4,
 "nbformat_minor": 2
}
